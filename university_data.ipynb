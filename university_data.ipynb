{
 "cells": [
  {
   "cell_type": "code",
   "execution_count": 16,
   "metadata": {
    "collapsed": true
   },
   "outputs": [],
   "source": [
    "import pandas as pd\n",
    "import csv\n",
    "import sqlite3\n",
    "import sqlalchemy\n",
    "from sqlalchemy import create_engine"
   ]
  },
  {
   "cell_type": "code",
   "execution_count": 6,
   "metadata": {
    "scrolled": true
   },
   "outputs": [],
   "source": [
    "acceptance_df = pd.read_csv(\"acceptance_rate.csv\")\n",
    "tuition_df = pd.read_csv(\"tuition.csv\")\n",
    "majors_df = pd.read_csv(\"major_fields.csv\")\n",
    "student_faculty_df = pd.read_csv(\"student_faculty_ratio.csv\")\n",
    "financial_aid_df = pd.read_csv(\"financial_aid.csv\")\n",
    "uniData_df = pd.read_csv(\"UniData.csv\")"
   ]
  },
  {
   "cell_type": "code",
   "execution_count": 7,
   "metadata": {
    "collapsed": true
   },
   "outputs": [],
   "source": [
    "df1 = pd.merge(uniData_df, acceptance_df, on='UNITID')"
   ]
  },
  {
   "cell_type": "code",
   "execution_count": 8,
   "metadata": {
    "collapsed": true
   },
   "outputs": [],
   "source": [
    "df2 = pd.merge(df1, student_faculty_df, on=\"UNITID\")"
   ]
  },
  {
   "cell_type": "code",
   "execution_count": 9,
   "metadata": {
    "collapsed": true
   },
   "outputs": [],
   "source": [
    "df3 = pd.merge(df2, tuition_df, on='UNITID')"
   ]
  },
  {
   "cell_type": "code",
   "execution_count": 10,
   "metadata": {
    "collapsed": true
   },
   "outputs": [],
   "source": [
    "df4 = pd.merge(df3, financial_aid_df, on=\"UNITID\")"
   ]
  },
  {
   "cell_type": "code",
   "execution_count": 11,
   "metadata": {},
   "outputs": [
    {
     "data": {
      "text/plain": [
       "UNITID                 False\n",
       "name                   False\n",
       "address                False\n",
       "city                   False\n",
       "zipCode                False\n",
       "stateAbbr              False\n",
       "webAddr                False\n",
       "lon                    False\n",
       "lat                    False\n",
       "acceptanceRate         False\n",
       "StudentFacultyRatio    False\n",
       "inStateTuition         False\n",
       "outOfStateTuition      False\n",
       "TotFinAidUG            False\n",
       "AveAmtGrantAid         False\n",
       "AveAmtStudentLoans     False\n",
       "dtype: bool"
      ]
     },
     "execution_count": 11,
     "metadata": {},
     "output_type": "execute_result"
    }
   ],
   "source": [
    "address_finances_df = df4.dropna(axis=0).reset_index(drop=True)\n",
    "address_finances_df.isnull().any()"
   ]
  },
  {
   "cell_type": "code",
   "execution_count": 12,
   "metadata": {},
   "outputs": [
    {
     "data": {
      "text/html": [
       "<div>\n",
       "<style>\n",
       "    .dataframe thead tr:only-child th {\n",
       "        text-align: right;\n",
       "    }\n",
       "\n",
       "    .dataframe thead th {\n",
       "        text-align: left;\n",
       "    }\n",
       "\n",
       "    .dataframe tbody tr th {\n",
       "        vertical-align: top;\n",
       "    }\n",
       "</style>\n",
       "<table border=\"1\" class=\"dataframe\">\n",
       "  <thead>\n",
       "    <tr style=\"text-align: right;\">\n",
       "      <th></th>\n",
       "      <th>UNITID</th>\n",
       "      <th>name</th>\n",
       "      <th>address</th>\n",
       "      <th>city</th>\n",
       "      <th>zipCode</th>\n",
       "      <th>stateAbbr</th>\n",
       "      <th>webAddr</th>\n",
       "      <th>lon</th>\n",
       "      <th>lat</th>\n",
       "      <th>acceptanceRate</th>\n",
       "      <th>StudentFacultyRatio</th>\n",
       "      <th>inStateTuition</th>\n",
       "      <th>outOfStateTuition</th>\n",
       "      <th>TotFinAidUG</th>\n",
       "      <th>AveAmtGrantAid</th>\n",
       "      <th>AveAmtStudentLoans</th>\n",
       "    </tr>\n",
       "  </thead>\n",
       "  <tbody>\n",
       "    <tr>\n",
       "      <th>0</th>\n",
       "      <td>100654</td>\n",
       "      <td>Alabama A &amp; M University</td>\n",
       "      <td>4900 Meridian Street</td>\n",
       "      <td>Normal</td>\n",
       "      <td>35762</td>\n",
       "      <td>AL</td>\n",
       "      <td>www.aamu.edu/</td>\n",
       "      <td>-86.568502</td>\n",
       "      <td>34.783368</td>\n",
       "      <td>87</td>\n",
       "      <td>18.0</td>\n",
       "      <td>8130</td>\n",
       "      <td>16260</td>\n",
       "      <td>4505</td>\n",
       "      <td>7686.0</td>\n",
       "      <td>10095.0</td>\n",
       "    </tr>\n",
       "    <tr>\n",
       "      <th>1</th>\n",
       "      <td>100663</td>\n",
       "      <td>University of Alabama at Birmingham</td>\n",
       "      <td>Administration Bldg Suite 1070</td>\n",
       "      <td>Birmingham</td>\n",
       "      <td>35294-0110</td>\n",
       "      <td>AL</td>\n",
       "      <td>www.uab.edu</td>\n",
       "      <td>-86.799345</td>\n",
       "      <td>33.505697</td>\n",
       "      <td>58</td>\n",
       "      <td>16.0</td>\n",
       "      <td>8040</td>\n",
       "      <td>18368</td>\n",
       "      <td>11511</td>\n",
       "      <td>7267.0</td>\n",
       "      <td>7385.0</td>\n",
       "    </tr>\n",
       "    <tr>\n",
       "      <th>2</th>\n",
       "      <td>100706</td>\n",
       "      <td>University of Alabama in Huntsville</td>\n",
       "      <td>301 Sparkman Dr</td>\n",
       "      <td>Huntsville</td>\n",
       "      <td>35899</td>\n",
       "      <td>AL</td>\n",
       "      <td>www.uah.edu</td>\n",
       "      <td>-86.640449</td>\n",
       "      <td>34.724557</td>\n",
       "      <td>76</td>\n",
       "      <td>17.0</td>\n",
       "      <td>8996</td>\n",
       "      <td>19766</td>\n",
       "      <td>6013</td>\n",
       "      <td>7870.0</td>\n",
       "      <td>7088.0</td>\n",
       "    </tr>\n",
       "    <tr>\n",
       "      <th>3</th>\n",
       "      <td>100724</td>\n",
       "      <td>Alabama State University</td>\n",
       "      <td>915 S Jackson Street</td>\n",
       "      <td>Montgomery</td>\n",
       "      <td>36104-0271</td>\n",
       "      <td>AL</td>\n",
       "      <td>www.alasu.edu</td>\n",
       "      <td>-86.295677</td>\n",
       "      <td>32.364317</td>\n",
       "      <td>46</td>\n",
       "      <td>17.0</td>\n",
       "      <td>6936</td>\n",
       "      <td>13872</td>\n",
       "      <td>4764</td>\n",
       "      <td>7751.0</td>\n",
       "      <td>9489.0</td>\n",
       "    </tr>\n",
       "    <tr>\n",
       "      <th>4</th>\n",
       "      <td>100751</td>\n",
       "      <td>The University of Alabama</td>\n",
       "      <td>739 University Blvd</td>\n",
       "      <td>Tuscaloosa</td>\n",
       "      <td>35487-0166</td>\n",
       "      <td>AL</td>\n",
       "      <td>www.ua.edu/</td>\n",
       "      <td>-87.545766</td>\n",
       "      <td>33.214400</td>\n",
       "      <td>53</td>\n",
       "      <td>23.0</td>\n",
       "      <td>10470</td>\n",
       "      <td>26950</td>\n",
       "      <td>31958</td>\n",
       "      <td>12753.0</td>\n",
       "      <td>6730.0</td>\n",
       "    </tr>\n",
       "  </tbody>\n",
       "</table>\n",
       "</div>"
      ],
      "text/plain": [
       "   UNITID                                 name  \\\n",
       "0  100654             Alabama A & M University   \n",
       "1  100663  University of Alabama at Birmingham   \n",
       "2  100706  University of Alabama in Huntsville   \n",
       "3  100724             Alabama State University   \n",
       "4  100751            The University of Alabama   \n",
       "\n",
       "                          address        city     zipCode stateAbbr  \\\n",
       "0            4900 Meridian Street      Normal       35762        AL   \n",
       "1  Administration Bldg Suite 1070  Birmingham  35294-0110        AL   \n",
       "2                 301 Sparkman Dr  Huntsville       35899        AL   \n",
       "3            915 S Jackson Street  Montgomery  36104-0271        AL   \n",
       "4             739 University Blvd  Tuscaloosa  35487-0166        AL   \n",
       "\n",
       "         webAddr        lon        lat  acceptanceRate  StudentFacultyRatio  \\\n",
       "0  www.aamu.edu/ -86.568502  34.783368              87                 18.0   \n",
       "1    www.uab.edu -86.799345  33.505697              58                 16.0   \n",
       "2    www.uah.edu -86.640449  34.724557              76                 17.0   \n",
       "3  www.alasu.edu -86.295677  32.364317              46                 17.0   \n",
       "4    www.ua.edu/ -87.545766  33.214400              53                 23.0   \n",
       "\n",
       "  inStateTuition outOfStateTuition  TotFinAidUG  AveAmtGrantAid  \\\n",
       "0           8130             16260         4505          7686.0   \n",
       "1           8040             18368        11511          7267.0   \n",
       "2           8996             19766         6013          7870.0   \n",
       "3           6936             13872         4764          7751.0   \n",
       "4          10470             26950        31958         12753.0   \n",
       "\n",
       "   AveAmtStudentLoans  \n",
       "0             10095.0  \n",
       "1              7385.0  \n",
       "2              7088.0  \n",
       "3              9489.0  \n",
       "4              6730.0  "
      ]
     },
     "execution_count": 12,
     "metadata": {},
     "output_type": "execute_result"
    }
   ],
   "source": [
    "address_finances_df.head()"
   ]
  },
  {
   "cell_type": "code",
   "execution_count": 14,
   "metadata": {},
   "outputs": [],
   "source": [
    "address_finances_df.to_csv(\"address_finances.csv\")"
   ]
  },
  {
   "cell_type": "code",
   "execution_count": 18,
   "metadata": {},
   "outputs": [],
   "source": [
    "engine = sqlalchemy.create_engine('sqlite:///university_data.sqlite', echo=False)\n",
    "conn = engine.connect()\n",
    "#conn.execute(\"CREATE TABLE if not exists address_finances (\"UNITID\" INTEGER, :name\" TEXT, \"address\" TEXT\", )\n",
    "address_finances_df.to_sql('address_finances', con=engine, if_exists=\"replace\")\n",
    "majors_df.to_sql('majors', con=engine, if_exists='replace')"
   ]
  },
  {
   "cell_type": "code",
   "execution_count": 21,
   "metadata": {
    "scrolled": false
   },
   "outputs": [
    {
     "data": {
      "text/plain": [
       "(0, 100654, 'Alabama A & M University', '4900 Meridian Street', 'Normal', '35762', 'AL', 'www.aamu.edu/', -86.568502, 34.783367999999996, 87, 18.0, '8130', '16260', 4505, 7686.0, 10095.0)"
      ]
     },
     "execution_count": 21,
     "metadata": {},
     "output_type": "execute_result"
    }
   ],
   "source": [
    "conn.execute(\"select * from address_finances\").first()"
   ]
  },
  {
   "cell_type": "code",
   "execution_count": null,
   "metadata": {
    "collapsed": true
   },
   "outputs": [],
   "source": []
  },
  {
   "cell_type": "code",
   "execution_count": null,
   "metadata": {
    "collapsed": true
   },
   "outputs": [],
   "source": []
  }
 ],
 "metadata": {
  "kernelspec": {
   "display_name": "Python 3",
   "language": "python",
   "name": "python3"
  },
  "language_info": {
   "codemirror_mode": {
    "name": "ipython",
    "version": 3
   },
   "file_extension": ".py",
   "mimetype": "text/x-python",
   "name": "python",
   "nbconvert_exporter": "python",
   "pygments_lexer": "ipython3",
   "version": "3.6.3"
  }
 },
 "nbformat": 4,
 "nbformat_minor": 2
}
